{
 "cells": [
  {
   "cell_type": "code",
   "execution_count": 1,
   "metadata": {},
   "outputs": [
    {
     "name": "stderr",
     "output_type": "stream",
     "text": [
      "/Users/edebrouwer/miniconda3/envs/takeda/lib/python3.8/site-packages/tqdm/auto.py:21: TqdmWarning: IProgress not found. Please update jupyter and ipywidgets. See https://ipywidgets.readthedocs.io/en/stable/user_install.html\n",
      "  from .autonotebook import tqdm as notebook_tqdm\n"
     ]
    }
   ],
   "source": [
    "from mm79.train_modules.utils import get_ensemble_results\n",
    "from mm79 import EXPERIMENT_DIR\n",
    "from mm79.train_modules.utils import check_constraints, convert_results_to_latex\n",
    "import os"
   ]
  },
  {
   "cell_type": "markdown",
   "metadata": {},
   "source": [
    "## Pretrain the model\n",
    "\n",
    "Configure your sweep. Example in `example_sweep.yaml`\n",
    "\n",
    "Run the sweep:\n",
    "\n",
    "`python run_sweep.py --config_name=example_sweep`\n",
    "\n",
    "Write down your sweep number.\n",
    "\n",
    "You can evaluate the performance of your different models here:\n",
    "\n",
    "`python precompute_AR_results.py`\n",
    "\n",
    "Change the sweep name to match the pre-trained sweep name.\n",
    "\n",
    "The cells below will extract the results and select the best runs to fine-tune"
   ]
  },
  {
   "cell_type": "code",
   "execution_count": 9,
   "metadata": {},
   "outputs": [
    {
     "name": "stdout",
     "output_type": "stream",
     "text": [
      "Evaluating on MM2 dataset...\n",
      "Constraint\n",
      "{'data_type': 'Custom', 'dropout_p': 0.1, 'emission_proba': False, 'fold': 0, 'gpus': 0, 'hidden_dim': 16, 'lambda_reg': 0.0, 'max_epochs': 1, 'nhead_treat': 0, 'nheads': 2, 'num_layers': 2, 'planned_treatments': True, 'restricted_input_features_set': False, 'restricted_pred_features_set': False, 't_cond': -1, 'use_rna': False, 'bootstrap_seed': 0}\n",
      "Processing run /Users/edebrouwer/YaleLocal/MIT-D79-Repo/mm79/../experiments/logs/un80dv5dgm_Seq2Seq_transformer_Custom/version_1\n",
      "Constraint\n",
      "{'data_type': 'Custom', 'dropout_p': 0.1, 'emission_proba': False, 'fold': 0, 'gpus': 0, 'hidden_dim': 16, 'lambda_reg': 0.0, 'max_epochs': 1, 'nhead_treat': 0, 'nheads': 2, 'num_layers': 2, 'planned_treatments': True, 'restricted_input_features_set': False, 'restricted_pred_features_set': False, 't_cond': -1, 'use_rna': False, 'bootstrap_seed': 1}\n",
      "Processing run /Users/edebrouwer/YaleLocal/MIT-D79-Repo/mm79/../experiments/logs/un80dv5dgm_Seq2Seq_transformer_Custom/version_18\n",
      "Constraint\n",
      "{'data_type': 'Custom', 'dropout_p': 0.1, 'emission_proba': False, 'fold': 0, 'gpus': 0, 'hidden_dim': 16, 'lambda_reg': 0.0, 'max_epochs': 1, 'nhead_treat': 0, 'nheads': 2, 'num_layers': 2, 'planned_treatments': True, 'restricted_input_features_set': False, 'restricted_pred_features_set': False, 't_cond': -1, 'use_rna': False, 'bootstrap_seed': 2}\n",
      "Processing run /Users/edebrouwer/YaleLocal/MIT-D79-Repo/mm79/../experiments/logs/un80dv5dgm_Seq2Seq_transformer_Custom/version_2\n",
      "Constraint\n",
      "{'data_type': 'Custom', 'dropout_p': 0.1, 'emission_proba': False, 'fold': 0, 'gpus': 0, 'hidden_dim': 16, 'lambda_reg': 0.0, 'max_epochs': 1, 'nhead_treat': 0, 'nheads': 2, 'num_layers': 2, 'planned_treatments': True, 'restricted_input_features_set': False, 'restricted_pred_features_set': False, 't_cond': -1, 'use_rna': False, 'bootstrap_seed': 3}\n",
      "Processing run /Users/edebrouwer/YaleLocal/MIT-D79-Repo/mm79/../experiments/logs/un80dv5dgm_Seq2Seq_transformer_Custom/version_3\n",
      "Constraint\n",
      "{'data_type': 'Custom', 'dropout_p': 0.1, 'emission_proba': False, 'fold': 0, 'gpus': 0, 'hidden_dim': 16, 'lambda_reg': 0.0, 'max_epochs': 1, 'nhead_treat': 0, 'nheads': 2, 'num_layers': 2, 'planned_treatments': True, 'restricted_input_features_set': False, 'restricted_pred_features_set': False, 't_cond': -1, 'use_rna': False, 'bootstrap_seed': 4}\n",
      "Processing run /Users/edebrouwer/YaleLocal/MIT-D79-Repo/mm79/../experiments/logs/un80dv5dgm_Seq2Seq_transformer_Custom/version_4\n",
      "Constraint\n",
      "{'data_type': 'Custom', 'dropout_p': 0.1, 'emission_proba': False, 'fold': 1, 'gpus': 0, 'hidden_dim': 16, 'lambda_reg': 0.0, 'max_epochs': 1, 'nhead_treat': 0, 'nheads': 2, 'num_layers': 2, 'planned_treatments': True, 'restricted_input_features_set': False, 'restricted_pred_features_set': False, 't_cond': -1, 'use_rna': False, 'bootstrap_seed': 0}\n",
      "Processing run /Users/edebrouwer/YaleLocal/MIT-D79-Repo/mm79/../experiments/logs/un80dv5dgm_Seq2Seq_transformer_Custom/version_6\n",
      "Constraint\n",
      "{'data_type': 'Custom', 'dropout_p': 0.1, 'emission_proba': False, 'fold': 1, 'gpus': 0, 'hidden_dim': 16, 'lambda_reg': 0.0, 'max_epochs': 1, 'nhead_treat': 0, 'nheads': 2, 'num_layers': 2, 'planned_treatments': True, 'restricted_input_features_set': False, 'restricted_pred_features_set': False, 't_cond': -1, 'use_rna': False, 'bootstrap_seed': 1}\n",
      "Processing run /Users/edebrouwer/YaleLocal/MIT-D79-Repo/mm79/../experiments/logs/un80dv5dgm_Seq2Seq_transformer_Custom/version_7\n",
      "Constraint\n",
      "{'data_type': 'Custom', 'dropout_p': 0.1, 'emission_proba': False, 'fold': 1, 'gpus': 0, 'hidden_dim': 16, 'lambda_reg': 0.0, 'max_epochs': 1, 'nhead_treat': 0, 'nheads': 2, 'num_layers': 2, 'planned_treatments': True, 'restricted_input_features_set': False, 'restricted_pred_features_set': False, 't_cond': -1, 'use_rna': False, 'bootstrap_seed': 2}\n",
      "Processing run /Users/edebrouwer/YaleLocal/MIT-D79-Repo/mm79/../experiments/logs/un80dv5dgm_Seq2Seq_transformer_Custom/version_8\n",
      "Constraint\n",
      "{'data_type': 'Custom', 'dropout_p': 0.1, 'emission_proba': False, 'fold': 1, 'gpus': 0, 'hidden_dim': 16, 'lambda_reg': 0.0, 'max_epochs': 1, 'nhead_treat': 0, 'nheads': 2, 'num_layers': 2, 'planned_treatments': True, 'restricted_input_features_set': False, 'restricted_pred_features_set': False, 't_cond': -1, 'use_rna': False, 'bootstrap_seed': 3}\n",
      "Processing run /Users/edebrouwer/YaleLocal/MIT-D79-Repo/mm79/../experiments/logs/un80dv5dgm_Seq2Seq_transformer_Custom/version_9\n",
      "Constraint\n",
      "{'data_type': 'Custom', 'dropout_p': 0.1, 'emission_proba': False, 'fold': 1, 'gpus': 0, 'hidden_dim': 16, 'lambda_reg': 0.0, 'max_epochs': 1, 'nhead_treat': 0, 'nheads': 2, 'num_layers': 2, 'planned_treatments': True, 'restricted_input_features_set': False, 'restricted_pred_features_set': False, 't_cond': -1, 'use_rna': False, 'bootstrap_seed': 4}\n",
      "Processing run /Users/edebrouwer/YaleLocal/MIT-D79-Repo/mm79/../experiments/logs/un80dv5dgm_Seq2Seq_transformer_Custom/version_10\n",
      "Constraint\n",
      "{'data_type': 'Custom', 'dropout_p': 0.1, 'emission_proba': False, 'fold': 2, 'gpus': 0, 'hidden_dim': 16, 'lambda_reg': 0.0, 'max_epochs': 1, 'nhead_treat': 0, 'nheads': 2, 'num_layers': 2, 'planned_treatments': True, 'restricted_input_features_set': False, 'restricted_pred_features_set': False, 't_cond': -1, 'use_rna': False, 'bootstrap_seed': 0}\n",
      "Processing run /Users/edebrouwer/YaleLocal/MIT-D79-Repo/mm79/../experiments/logs/un80dv5dgm_Seq2Seq_transformer_Custom/version_12\n",
      "Constraint\n",
      "{'data_type': 'Custom', 'dropout_p': 0.1, 'emission_proba': False, 'fold': 2, 'gpus': 0, 'hidden_dim': 16, 'lambda_reg': 0.0, 'max_epochs': 1, 'nhead_treat': 0, 'nheads': 2, 'num_layers': 2, 'planned_treatments': True, 'restricted_input_features_set': False, 'restricted_pred_features_set': False, 't_cond': -1, 'use_rna': False, 'bootstrap_seed': 1}\n",
      "Processing run /Users/edebrouwer/YaleLocal/MIT-D79-Repo/mm79/../experiments/logs/un80dv5dgm_Seq2Seq_transformer_Custom/version_13\n",
      "Constraint\n",
      "{'data_type': 'Custom', 'dropout_p': 0.1, 'emission_proba': False, 'fold': 2, 'gpus': 0, 'hidden_dim': 16, 'lambda_reg': 0.0, 'max_epochs': 1, 'nhead_treat': 0, 'nheads': 2, 'num_layers': 2, 'planned_treatments': True, 'restricted_input_features_set': False, 'restricted_pred_features_set': False, 't_cond': -1, 'use_rna': False, 'bootstrap_seed': 2}\n",
      "Processing run /Users/edebrouwer/YaleLocal/MIT-D79-Repo/mm79/../experiments/logs/un80dv5dgm_Seq2Seq_transformer_Custom/version_14\n",
      "Constraint\n",
      "{'data_type': 'Custom', 'dropout_p': 0.1, 'emission_proba': False, 'fold': 2, 'gpus': 0, 'hidden_dim': 16, 'lambda_reg': 0.0, 'max_epochs': 1, 'nhead_treat': 0, 'nheads': 2, 'num_layers': 2, 'planned_treatments': True, 'restricted_input_features_set': False, 'restricted_pred_features_set': False, 't_cond': -1, 'use_rna': False, 'bootstrap_seed': 3}\n",
      "Processing run /Users/edebrouwer/YaleLocal/MIT-D79-Repo/mm79/../experiments/logs/un80dv5dgm_Seq2Seq_transformer_Custom/version_15\n",
      "Constraint\n",
      "{'data_type': 'Custom', 'dropout_p': 0.1, 'emission_proba': False, 'fold': 2, 'gpus': 0, 'hidden_dim': 16, 'lambda_reg': 0.0, 'max_epochs': 1, 'nhead_treat': 0, 'nheads': 2, 'num_layers': 2, 'planned_treatments': True, 'restricted_input_features_set': False, 'restricted_pred_features_set': False, 't_cond': -1, 'use_rna': False, 'bootstrap_seed': 4}\n",
      "Processing run /Users/edebrouwer/YaleLocal/MIT-D79-Repo/mm79/../experiments/logs/un80dv5dgm_Seq2Seq_transformer_Custom/version_16\n"
     ]
    }
   ],
   "source": [
    "sweep_name = \"un80dv5dgm\" #[insert sweep name]\n",
    "df_ensemble = get_ensemble_results(sweep_name = sweep_name, constraints = {\"fold\":[0,1,2],\"bootstrap_seed\":[0,1,2,3,4]}, evaluation_params = {\"t_cond\": 6, \"t_horizon\":6, \"subgroup_strat\":\"myeloma-type\"})"
   ]
  },
  {
   "cell_type": "code",
   "execution_count": 10,
   "metadata": {},
   "outputs": [
    {
     "name": "stdout",
     "output_type": "stream",
     "text": [
      "  data_type  dropout_p  emission_proba  fold  gpus  hidden_dim  lambda_reg  \\\n",
      "0    Custom        0.1           False     0     0          16         0.0   \n",
      "0    Custom        0.1           False     1     0          16         0.0   \n",
      "0    Custom        0.1           False     2     0          16         0.0   \n",
      "\n",
      "   max_epochs  nhead_treat  nheads  ...  test_concordance_ae_7  \\\n",
      "0           1            0       2  ...                    NaN   \n",
      "0           1            0       2  ...                    NaN   \n",
      "0           1            0       2  ...                    NaN   \n",
      "\n",
      "   val_concordance_ae_8  test_concordance_ae_8  val_concordance_ae_9  \\\n",
      "0                   NaN                    NaN                   NaN   \n",
      "0                   NaN                    NaN                   NaN   \n",
      "0                   NaN                    NaN                   NaN   \n",
      "\n",
      "   test_concordance_ae_9  val_concordance_ae_10  test_concordance_ae_10  \\\n",
      "0                    NaN                    NaN                     NaN   \n",
      "0                    NaN                    NaN                     NaN   \n",
      "0                    NaN                    NaN                     NaN   \n",
      "\n",
      "   val_concordance_ae_11  test_concordance_ae_11  subgroup  \n",
      "0                    NaN                     NaN       all  \n",
      "0                    NaN                     NaN       all  \n",
      "0                    NaN                     NaN       all  \n",
      "\n",
      "[3 rows x 51 columns]\n",
      "- version_1\n",
      "- version_0\n",
      "- version_2\n",
      "- version_4\n",
      "- version_3\n",
      "- version_18\n",
      "- version_8\n",
      "- version_6\n",
      "- version_7\n",
      "- version_9\n",
      "- version_5\n",
      "- version_10\n",
      "- version_15\n",
      "- version_12\n",
      "- version_13\n",
      "- version_14\n",
      "- version_11\n",
      "- version_16\n"
     ]
    }
   ],
   "source": [
    "# Choose best hyper-params\n",
    "best_idx = df_ensemble.groupby([\"fold\",\"subgroup\"])[\"val_mse\"].transform(\"min\") == df_ensemble[\"val_mse\"]\n",
    "df_ens_best = df_ensemble[best_idx]\n",
    "df_best_all = df_ens_best.loc[df_ens_best.subgroup==\"all\"]\n",
    "print(df_best_all)\n",
    "\n",
    "# Choose runs to fine-tune\n",
    "\n",
    "cols_to_drop = [\"val_mse\",\"test_mse\",\"val_auc\",\"test_auc\",\"subgroup\",\n",
    "                \"val_mse_serum\",\"test_mse_serum\",\"val_mse_chem\",\"test_mse_chem\"]\n",
    "cols_to_drop = cols_to_drop + [c for c in df_best_all.columns if \"concordance\" in c]\n",
    "\n",
    "versions = []\n",
    "for idx in range(len(df_best_all)):\n",
    "  constraint_ = dict(df_best_all.iloc[idx].drop(cols_to_drop))\n",
    "  #constraint_[\"bootstrap_seed\"] = [0,1,2,3,4]\n",
    "\n",
    "  log_dir = os.path.join(EXPERIMENT_DIR, \"logs\")\n",
    "  exp_dirs = [os.path.join(log_dir, d)\n",
    "            for d in os.listdir(log_dir) if sweep_name in d]\n",
    "  assert(len(exp_dirs) == 1)\n",
    "\n",
    "  run_dirs = []\n",
    "  for exp_dir in exp_dirs:\n",
    "    run_dirs += [os.path.join(exp_dir, d) for d in os.listdir(exp_dir)]            \n",
    "\n",
    "  versions += [\n",
    "            r.split(\"/\")[-1] for r in run_dirs if check_constraints(r, constraint_)]\n",
    "  \n",
    "for version in versions:\n",
    "  print(f\"- {version}\")"
   ]
  },
  {
   "cell_type": "markdown",
   "metadata": {},
   "source": [
    "## Fine-tuning\n",
    "\n",
    "Copy-paste the version names and edit the `pretrained_sweep_name` in `example_fine_tune_sweep.yaml`\n",
    "\n",
    "Change the outcome and event_type according to your use-case (pfs for progression free survival, OS for overall survival), adverse events are fine-tuned by default.\n",
    "\n",
    "Then run the fine-tuning sweep using:\n",
    "\n",
    "`python run_sweep.py --config_name=example_fine_tune_sweep`\n",
    "\n",
    "You can then precompute your results using\n",
    "\n",
    "`python precompute_AR_results.py` (You should modify the sweep name with the fine-tuning sweep name there).\n",
    "\n",
    "Then run the cells below to collect the final results !"
   ]
  },
  {
   "cell_type": "code",
   "execution_count": 3,
   "metadata": {},
   "outputs": [
    {
     "name": "stdout",
     "output_type": "stream",
     "text": [
      "Evaluating on MM2 dataset...\n",
      "Constraint\n",
      "{'early_stopping': 50, 'emission_type': 'non_linear', 'emission_window': 1, 'event_type': 'pfs', 'include_baseline': True, 'include_last': True, 'outcome': 'pfs', 'fold': 0, 'bootstrap_seed': 0}\n",
      "Processing run /Users/edebrouwer/YaleLocal/MIT-D79-Repo/mm79/../experiments/logs/k5cq332uzw_FineTune_Seq2Seq_transformer_Custom/version_0\n",
      "Constraint\n",
      "{'early_stopping': 50, 'emission_type': 'non_linear', 'emission_window': 1, 'event_type': 'pfs', 'include_baseline': True, 'include_last': True, 'outcome': 'pfs', 'fold': 0, 'bootstrap_seed': 1}\n",
      "Processing run /Users/edebrouwer/YaleLocal/MIT-D79-Repo/mm79/../experiments/logs/k5cq332uzw_FineTune_Seq2Seq_transformer_Custom/version_5\n",
      "Constraint\n",
      "{'early_stopping': 50, 'emission_type': 'non_linear', 'emission_window': 1, 'event_type': 'pfs', 'include_baseline': True, 'include_last': True, 'outcome': 'pfs', 'fold': 0, 'bootstrap_seed': 2}\n",
      "Processing run /Users/edebrouwer/YaleLocal/MIT-D79-Repo/mm79/../experiments/logs/k5cq332uzw_FineTune_Seq2Seq_transformer_Custom/version_2\n",
      "Constraint\n",
      "{'early_stopping': 50, 'emission_type': 'non_linear', 'emission_window': 1, 'event_type': 'pfs', 'include_baseline': True, 'include_last': True, 'outcome': 'pfs', 'fold': 0, 'bootstrap_seed': 3}\n",
      "Processing run /Users/edebrouwer/YaleLocal/MIT-D79-Repo/mm79/../experiments/logs/k5cq332uzw_FineTune_Seq2Seq_transformer_Custom/version_4\n",
      "Constraint\n",
      "{'early_stopping': 50, 'emission_type': 'non_linear', 'emission_window': 1, 'event_type': 'pfs', 'include_baseline': True, 'include_last': True, 'outcome': 'pfs', 'fold': 0, 'bootstrap_seed': 4}\n",
      "Processing run /Users/edebrouwer/YaleLocal/MIT-D79-Repo/mm79/../experiments/logs/k5cq332uzw_FineTune_Seq2Seq_transformer_Custom/version_3\n",
      "Constraint\n",
      "{'early_stopping': 50, 'emission_type': 'non_linear', 'emission_window': 1, 'event_type': 'pfs', 'include_baseline': True, 'include_last': True, 'outcome': 'pfs', 'fold': 1, 'bootstrap_seed': 0}\n",
      "Processing run /Users/edebrouwer/YaleLocal/MIT-D79-Repo/mm79/../experiments/logs/k5cq332uzw_FineTune_Seq2Seq_transformer_Custom/version_7\n",
      "Constraint\n",
      "{'early_stopping': 50, 'emission_type': 'non_linear', 'emission_window': 1, 'event_type': 'pfs', 'include_baseline': True, 'include_last': True, 'outcome': 'pfs', 'fold': 1, 'bootstrap_seed': 1}\n",
      "Processing run /Users/edebrouwer/YaleLocal/MIT-D79-Repo/mm79/../experiments/logs/k5cq332uzw_FineTune_Seq2Seq_transformer_Custom/version_8\n",
      "Constraint\n",
      "{'early_stopping': 50, 'emission_type': 'non_linear', 'emission_window': 1, 'event_type': 'pfs', 'include_baseline': True, 'include_last': True, 'outcome': 'pfs', 'fold': 1, 'bootstrap_seed': 2}\n",
      "Processing run /Users/edebrouwer/YaleLocal/MIT-D79-Repo/mm79/../experiments/logs/k5cq332uzw_FineTune_Seq2Seq_transformer_Custom/version_6\n",
      "Constraint\n",
      "{'early_stopping': 50, 'emission_type': 'non_linear', 'emission_window': 1, 'event_type': 'pfs', 'include_baseline': True, 'include_last': True, 'outcome': 'pfs', 'fold': 1, 'bootstrap_seed': 3}\n",
      "Processing run /Users/edebrouwer/YaleLocal/MIT-D79-Repo/mm79/../experiments/logs/k5cq332uzw_FineTune_Seq2Seq_transformer_Custom/version_9\n",
      "Constraint\n",
      "{'early_stopping': 50, 'emission_type': 'non_linear', 'emission_window': 1, 'event_type': 'pfs', 'include_baseline': True, 'include_last': True, 'outcome': 'pfs', 'fold': 1, 'bootstrap_seed': 4}\n",
      "Processing run /Users/edebrouwer/YaleLocal/MIT-D79-Repo/mm79/../experiments/logs/k5cq332uzw_FineTune_Seq2Seq_transformer_Custom/version_11\n",
      "Constraint\n",
      "{'early_stopping': 50, 'emission_type': 'non_linear', 'emission_window': 1, 'event_type': 'pfs', 'include_baseline': True, 'include_last': True, 'outcome': 'pfs', 'fold': 2, 'bootstrap_seed': 0}\n",
      "Processing run /Users/edebrouwer/YaleLocal/MIT-D79-Repo/mm79/../experiments/logs/k5cq332uzw_FineTune_Seq2Seq_transformer_Custom/version_13\n",
      "Constraint\n",
      "{'early_stopping': 50, 'emission_type': 'non_linear', 'emission_window': 1, 'event_type': 'pfs', 'include_baseline': True, 'include_last': True, 'outcome': 'pfs', 'fold': 2, 'bootstrap_seed': 1}\n",
      "Processing run /Users/edebrouwer/YaleLocal/MIT-D79-Repo/mm79/../experiments/logs/k5cq332uzw_FineTune_Seq2Seq_transformer_Custom/version_14\n",
      "Constraint\n",
      "{'early_stopping': 50, 'emission_type': 'non_linear', 'emission_window': 1, 'event_type': 'pfs', 'include_baseline': True, 'include_last': True, 'outcome': 'pfs', 'fold': 2, 'bootstrap_seed': 2}\n",
      "Processing run /Users/edebrouwer/YaleLocal/MIT-D79-Repo/mm79/../experiments/logs/k5cq332uzw_FineTune_Seq2Seq_transformer_Custom/version_15\n",
      "Constraint\n",
      "{'early_stopping': 50, 'emission_type': 'non_linear', 'emission_window': 1, 'event_type': 'pfs', 'include_baseline': True, 'include_last': True, 'outcome': 'pfs', 'fold': 2, 'bootstrap_seed': 3}\n",
      "Processing run /Users/edebrouwer/YaleLocal/MIT-D79-Repo/mm79/../experiments/logs/k5cq332uzw_FineTune_Seq2Seq_transformer_Custom/version_12\n",
      "Constraint\n",
      "{'early_stopping': 50, 'emission_type': 'non_linear', 'emission_window': 1, 'event_type': 'pfs', 'include_baseline': True, 'include_last': True, 'outcome': 'pfs', 'fold': 2, 'bootstrap_seed': 4}\n",
      "Processing run /Users/edebrouwer/YaleLocal/MIT-D79-Repo/mm79/../experiments/logs/k5cq332uzw_FineTune_Seq2Seq_transformer_Custom/version_17\n"
     ]
    }
   ],
   "source": [
    "sweep_name = \"k5cq332uzw\" # This should be the sweep name of the fine-tuning sweep\n",
    "dataset_name = \"MM2\"\n",
    "var_bin = None\n",
    "df_res = []\n",
    "for t_cond in [6]: # The different condition times  for the predictions.\n",
    "  for t_horizon in  [6]: # The different time horizons for the predictions.\n",
    "    df_ensemble = get_ensemble_results(sweep_name = sweep_name, constraints = { \"fold\":[0,1,2],\n",
    "                                                                               \"early_stopping\":[50]}, evaluation_params = {\"t_cond\": t_cond, \"t_horizon\": t_horizon, \"subgroup_strat\":\"myeloma-type\",\"var_bin\":var_bin, \"dataset_name\":dataset_name})\n",
    "    df_ensemble[\"t_cond\"] = t_cond\n",
    "    df_ensemble[\"t_horizon\"] = t_horizon\n",
    "    df_res.append(df_ensemble)"
   ]
  },
  {
   "cell_type": "code",
   "execution_count": 4,
   "metadata": {},
   "outputs": [
    {
     "name": "stdout",
     "output_type": "stream",
     "text": [
      "\\begin{tabular}{lrlrrllllllllllllllllllllllllllllllllll}\n",
      "\\toprule\n",
      "emission_type &  emission_window & subgroup &  t_cond &  t_horizon &           val_mse &          test_mse &     val_mse_serum &    test_mse_serum &      val_mse_chem &     test_mse_chem &           val_auc &          test_auc & val_concordance_event & test_concordance_event & val_concordance_ae_0 & test_concordance_ae_0 & val_concordance_ae_1 & test_concordance_ae_1 & val_concordance_ae_2 & test_concordance_ae_2 & val_concordance_ae_3 & test_concordance_ae_3 & val_concordance_ae_4 & test_concordance_ae_4 & val_concordance_ae_5 & test_concordance_ae_5 & val_concordance_ae_6 & test_concordance_ae_6 & val_concordance_ae_7 & test_concordance_ae_7 & val_concordance_ae_8 & test_concordance_ae_8 & val_concordance_ae_9 & test_concordance_ae_9 & val_concordance_ae_10 & test_concordance_ae_10 & val_concordance_ae_11 & test_concordance_ae_11 \\\\\n",
      "\\midrule\n",
      "   non_linear &                1 &      IGA &       6 &          6 & $1.002 \\pm 0.020$ & $1.013 \\pm 0.010$ & $1.004 \\pm 0.039$ & $1.005 \\pm 0.062$ & $1.036 \\pm 0.024$ & $0.993 \\pm 0.029$ & $0.457 \\pm 0.039$ & $0.506 \\pm 0.054$ &     $0.440 \\pm 0.051$ &      $0.521 \\pm 0.015$ &    $0.535 \\pm 0.118$ &     $0.575 \\pm 0.038$ &    $0.459 \\pm 0.158$ &     $0.528 \\pm 0.046$ &    $0.538 \\pm 0.076$ &     $0.503 \\pm 0.090$ &    $0.412 \\pm 0.100$ &     $0.510 \\pm 0.032$ &    $0.526 \\pm 0.102$ &     $0.516 \\pm 0.090$ &    $0.503 \\pm 0.106$ &     $0.419 \\pm 0.076$ &    $0.609 \\pm 0.072$ &     $0.530 \\pm 0.029$ &    $0.476 \\pm 0.097$ &     $0.491 \\pm 0.094$ &    $0.510 \\pm 0.090$ &     $0.545 \\pm 0.057$ &    $0.558 \\pm 0.018$ &     $0.493 \\pm 0.052$ &     $0.499 \\pm 0.114$ &      $0.553 \\pm 0.009$ &     $0.446 \\pm 0.066$ &      $0.503 \\pm 0.118$ \\\\\n",
      "   non_linear &                1 &      IGG &       6 &          6 & $1.006 \\pm 0.026$ & $1.033 \\pm 0.008$ & $1.018 \\pm 0.056$ & $0.997 \\pm 0.034$ & $0.998 \\pm 0.023$ & $1.064 \\pm 0.019$ & $0.570 \\pm 0.139$ & $0.491 \\pm 0.085$ &     $0.491 \\pm 0.141$ &      $0.488 \\pm 0.078$ &    $0.501 \\pm 0.062$ &     $0.542 \\pm 0.031$ &    $0.492 \\pm 0.049$ &     $0.424 \\pm 0.050$ &    $0.514 \\pm 0.040$ &     $0.527 \\pm 0.075$ &    $0.472 \\pm 0.066$ &     $0.487 \\pm 0.118$ &    $0.517 \\pm 0.090$ &     $0.463 \\pm 0.083$ &    $0.494 \\pm 0.129$ &     $0.434 \\pm 0.032$ &    $0.445 \\pm 0.046$ &     $0.469 \\pm 0.048$ &    $0.548 \\pm 0.062$ &     $0.541 \\pm 0.021$ &    $0.456 \\pm 0.091$ &     $0.518 \\pm 0.068$ &    $0.458 \\pm 0.038$ &     $0.543 \\pm 0.038$ &     $0.517 \\pm 0.017$ &      $0.461 \\pm 0.045$ &     $0.526 \\pm 0.052$ &      $0.514 \\pm 0.092$ \\\\\n",
      "   non_linear &                1 &      all &       6 &          6 & $1.006 \\pm 0.005$ & $1.018 \\pm 0.003$ & $1.008 \\pm 0.044$ & $1.024 \\pm 0.019$ & $1.021 \\pm 0.018$ & $1.017 \\pm 0.011$ & $0.517 \\pm 0.053$ & $0.508 \\pm 0.025$ &     $0.459 \\pm 0.034$ &      $0.521 \\pm 0.016$ &    $0.497 \\pm 0.023$ &     $0.518 \\pm 0.007$ &    $0.488 \\pm 0.057$ &     $0.474 \\pm 0.019$ &    $0.523 \\pm 0.023$ &     $0.495 \\pm 0.033$ &    $0.448 \\pm 0.072$ &     $0.504 \\pm 0.043$ &    $0.498 \\pm 0.036$ &     $0.493 \\pm 0.032$ &    $0.511 \\pm 0.098$ &     $0.451 \\pm 0.040$ &    $0.509 \\pm 0.027$ &     $0.489 \\pm 0.031$ &    $0.509 \\pm 0.024$ &     $0.480 \\pm 0.029$ &    $0.482 \\pm 0.038$ &     $0.519 \\pm 0.047$ &    $0.500 \\pm 0.032$ &     $0.534 \\pm 0.030$ &     $0.521 \\pm 0.028$ &      $0.481 \\pm 0.013$ &     $0.494 \\pm 0.015$ &      $0.520 \\pm 0.068$ \\\\\n",
      "\\bottomrule\n",
      "\\end{tabular}\n",
      "\n"
     ]
    },
    {
     "name": "stderr",
     "output_type": "stream",
     "text": [
      "/var/folders/mt/chc1ffgd6vbcj65ckwqbppw80000gn/T/ipykernel_47760/754817004.py:23: FutureWarning: The frame.append method is deprecated and will be removed from pandas in a future version. Use pandas.concat instead.\n",
      "  df = df.append(pd.DataFrame(df_, index=[0]))\n",
      "/var/folders/mt/chc1ffgd6vbcj65ckwqbppw80000gn/T/ipykernel_47760/754817004.py:23: FutureWarning: The frame.append method is deprecated and will be removed from pandas in a future version. Use pandas.concat instead.\n",
      "  df = df.append(pd.DataFrame(df_, index=[0]))\n",
      "/var/folders/mt/chc1ffgd6vbcj65ckwqbppw80000gn/T/ipykernel_47760/754817004.py:23: FutureWarning: The frame.append method is deprecated and will be removed from pandas in a future version. Use pandas.concat instead.\n",
      "  df = df.append(pd.DataFrame(df_, index=[0]))\n",
      "/var/folders/mt/chc1ffgd6vbcj65ckwqbppw80000gn/T/ipykernel_47760/754817004.py:26: FutureWarning: In future versions `DataFrame.to_latex` is expected to utilise the base implementation of `Styler.to_latex` for formatting and rendering. The arguments signature may therefore change. It is recommended instead to use `DataFrame.style.to_latex` which also contains additional functionality.\n",
      "  print(df.to_latex(escape = False, index = False))\n"
     ]
    }
   ],
   "source": [
    "import pandas as pd\n",
    "metrics = [\"val_mse\",\"test_mse\",\"val_mse_serum\",\"test_mse_serum\",\"val_mse_chem\",\"test_mse_chem\",\"val_auc\",\"test_auc\",\"val_concordance_event\",\"test_concordance_event\"]\n",
    "metrics = metrics + [c for c in df_res[0] if \"concordance_ae\" in c]\n",
    "protected_cols = [\"emission_type\",\"emission_window\",\"subgroup\",\"t_cond\",\"t_horizon\"]\n",
    "\n",
    "mu_df = pd.concat(df_res).groupby(protected_cols)[metrics].mean().reset_index()\n",
    "std_df = pd.concat(df_res).groupby(protected_cols)[metrics].std().reset_index()\n",
    "\n",
    "aggregate_cols = [c for c in mu_df.columns if c not in protected_cols]\n",
    "\n",
    "df = pd.DataFrame()\n",
    "\n",
    "for i in range(len(mu_df)):\n",
    "  constraint = mu_df.iloc[i][protected_cols].to_dict()\n",
    "  mu_df_ = mu_df[mu_df[list(constraint.keys())].eq(\n",
    "      constraint).all(axis=1)]\n",
    "  std_df_ = std_df[std_df[list(constraint.keys())].eq(\n",
    "      constraint).all(axis=1)]\n",
    "  df_ = {\n",
    "      c: f\"${mu_df_[c].item():.3f} \\pm {std_df_[c].item():.3f}$\" for c in aggregate_cols}\n",
    "  for k, v in constraint.items():\n",
    "      df_[k] = v\n",
    "  df = df.append(pd.DataFrame(df_, index=[0]))\n",
    "df = df[protected_cols+aggregate_cols]\n",
    "\n",
    "print(df.to_latex(escape = False, index = False))"
   ]
  },
  {
   "cell_type": "code",
   "execution_count": null,
   "metadata": {},
   "outputs": [],
   "source": []
  }
 ],
 "metadata": {
  "kernelspec": {
   "display_name": "takeda",
   "language": "python",
   "name": "python3"
  },
  "language_info": {
   "codemirror_mode": {
    "name": "ipython",
    "version": 3
   },
   "file_extension": ".py",
   "mimetype": "text/x-python",
   "name": "python",
   "nbconvert_exporter": "python",
   "pygments_lexer": "ipython3",
   "version": "3.8.10"
  }
 },
 "nbformat": 4,
 "nbformat_minor": 2
}
